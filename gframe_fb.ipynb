{
 "cells": [
  {
   "cell_type": "markdown",
   "metadata": {},
   "source": [
    "# Using Graphframes in Spark"
   ]
  },
  {
   "cell_type": "markdown",
   "metadata": {},
   "source": [
    "### Import required libraries"
   ]
  },
  {
   "cell_type": "code",
   "execution_count": 1,
   "metadata": {
    "collapsed": true
   },
   "outputs": [],
   "source": [
    "from __future__ import print_function, division\n",
    "%matplotlib inline\n",
    "import matplotlib\n",
    "import numpy as np\n",
    "import math\n",
    "import matplotlib.pyplot as plt\n",
    "from matplotlib import style\n",
    "from hive_query import hive_query"
   ]
  },
  {
   "cell_type": "markdown",
   "metadata": {},
   "source": [
    "### Define System Paths and Environment variables"
   ]
  },
  {
   "cell_type": "code",
   "execution_count": 2,
   "metadata": {
    "collapsed": true
   },
   "outputs": [],
   "source": [
    "import sys\n",
    "sys.path.append(\"/usr/hdp/current/spark2-client/python\")\n",
    "sys.path.append(\"/usr/hdp/current/spark2-client/python/lib/py4j-0.10.3-src.zip\")\n",
    "import os\n",
    "os.environ['SPARK_HOME']='/usr/hdp/current/spark2-client'\n",
    "os.environ['PYSPARK_PYTHON']='python2.7'\n",
    "os.environ['PYSPARK_SUBMIT_ARGS']='--jars /home/cram/spark2-client/spark-2.1.0-bin-hadoop2.7/jars/com.typesafe.scala-logging_scala-logging-api_2.11-2.1.2.jar,/home/cram/spark2-client/spark-2.1.0-bin-hadoop2.7/jars/com.typesafe.scala-logging_scala-logging-slf4j_2.11-2.1.2.jar,/home/cram/spark2-client/spark-2.1.0-bin-hadoop2.7/jars/graphframes_graphframes-0.4.0-spark2.0-s_2.11.jar,/home/cram/spark2-client/spark-2.1.0-bin-hadoop2.7/jars/graphframes-0.4.0-spark2.1-s_2.11.jar,/home/cram/spark2-client/spark-2.1.0-bin-hadoop2.7/jars/org.scala-lang_scala-reflect-2.11.0.jar,/home/cram/spark2-client/spark-2.1.0-bin-hadoop2.7/jars/org.slf4j_slf4j-api-1.7.7.jar --py-files /home/cram/spark2-client/spark-2.1.0-bin-hadoop2.7/python/pyspark/graphframes/graphframe.py pyspark-shell'"
   ]
  },
  {
   "cell_type": "markdown",
   "metadata": {},
   "source": [
    "### Configure the Spark"
   ]
  },
  {
   "cell_type": "code",
   "execution_count": 3,
   "metadata": {
    "collapsed": false
   },
   "outputs": [
    {
     "data": {
      "text/plain": [
       "<pyspark.conf.SparkConf at 0x7f311169f290>"
      ]
     },
     "execution_count": 3,
     "metadata": {},
     "output_type": "execute_result"
    }
   ],
   "source": [
    "from pyspark import SparkConf, SparkContext\n",
    "from pyspark.sql import HiveContext\n",
    "conf = SparkConf()\n",
    "conf.setMaster(\"yarn-client\")\n",
    "conf.setAppName(\"GraphFrames\")\n",
    "conf.set(\"spark.executor.memory\", \"12g\")\n",
    "conf.set(\"spark.yarn.am.memory\",\"12g\")\n",
    "# conf.set(\"spark.executor.instances\",\"80\")\n",
    "conf.set(\"spark.dynamicAllocation.enabled\",\"true\")\n",
    "conf.set(\"spark.shuffle.service.enabled\",\"true\")\n",
    "conf.set(\"spark.dynamicAllocation.cachedExecutorIdleTimeout\",\"600s\")\n",
    "#conf.set(\"spark.dynamicAllocation.minExecutors\",\"128\")\n",
    "#conf.set(\"spark.dynamicAllocation.maxExecutors\",\"1024\")\n",
    "conf.set(\"spark.yarn.dist.files\",\"/usr/hdp/current/spark2-client/python/lib/pyspark.zip,/usr/hdp/current/spark2-client/python/lib/py4j-0.10.3-src.zip\")\n",
    "conf.setExecutorEnv('PYTHONPATH','pyspark.zip:py4j-0.10.3-src.zip')\n",
    "conf.set(\"spark.network.timeout\",1000000)\n",
    "conf.set(\"spark.serializer\",\"org.apache.spark.serializer.KryoSerializer\")\n",
    "conf.set(\"spark.executor.extraLibraryPath\",\"/usr/hdp/current/hadoop-client/lib/native\")\n",
    "conf.set(\"spark.executor.extraClassPath\",\"/usr/hdp/current/hadoop-client/lib/snappy*.jar\")"
   ]
  },
  {
   "cell_type": "markdown",
   "metadata": {},
   "source": [
    "#### Create the Spark Context"
   ]
  },
  {
   "cell_type": "code",
   "execution_count": 4,
   "metadata": {
    "collapsed": true
   },
   "outputs": [],
   "source": [
    "sc = SparkContext(conf=conf)\n",
    "hiveContext = HiveContext(sc)"
   ]
  },
  {
   "cell_type": "markdown",
   "metadata": {},
   "source": [
    "### Define a Graph"
   ]
  },
  {
   "cell_type": "code",
   "execution_count": 5,
   "metadata": {
    "collapsed": false
   },
   "outputs": [
    {
     "data": {
      "text/plain": [
       "88234"
      ]
     },
     "execution_count": 5,
     "metadata": {},
     "output_type": "execute_result"
    }
   ],
   "source": [
    "# Read the data (Facebook Data)\n",
    "# hdfs dfs -mkdir graph\n",
    "# hdfs dfs -put /home/cram/notebooks/facebook_combined.txt graph/facebook_combined.txt\n",
    "#  Data is available at https://snap.stanford.edu/data/egonets-Facebook.html\n",
    "from pyspark.sql.types import *\n",
    "dfschema=schema = StructType([StructField(\"src\", IntegerType(), True),StructField(\"dst\", IntegerType(), True)])\n",
    "edges=hiveContext.read.format(\"csv\").option(\"delimiter\",\" \").schema(dfschema).load('graph/facebook_combined.txt')\n",
    "edges.count()"
   ]
  },
  {
   "cell_type": "code",
   "execution_count": 6,
   "metadata": {
    "collapsed": false
   },
   "outputs": [
    {
     "name": "stdout",
     "output_type": "stream",
     "text": [
      "+---+---+\n",
      "|src|dst|\n",
      "+---+---+\n",
      "|  0|  1|\n",
      "|  0|  2|\n",
      "|  0|  3|\n",
      "|  0|  4|\n",
      "|  0|  5|\n",
      "|  0|  6|\n",
      "|  0|  7|\n",
      "|  0|  8|\n",
      "|  0|  9|\n",
      "|  0| 10|\n",
      "|  0| 11|\n",
      "|  0| 12|\n",
      "|  0| 13|\n",
      "|  0| 14|\n",
      "|  0| 15|\n",
      "|  0| 16|\n",
      "|  0| 17|\n",
      "|  0| 18|\n",
      "|  0| 19|\n",
      "|  0| 20|\n",
      "+---+---+\n",
      "only showing top 20 rows\n",
      "\n"
     ]
    }
   ],
   "source": [
    "edges.show()"
   ]
  },
  {
   "cell_type": "code",
   "execution_count": 7,
   "metadata": {
    "collapsed": false
   },
   "outputs": [
    {
     "data": {
      "text/plain": [
       "4039"
      ]
     },
     "execution_count": 7,
     "metadata": {},
     "output_type": "execute_result"
    }
   ],
   "source": [
    "n1 = edges.select(\"src\").distinct()\n",
    "n2 = edges.select(\"dst\").distinct()\n",
    "n = n1.unionAll( n2 ).withColumnRenamed(\"src\",\"name\").distinct()\n",
    "n.count()"
   ]
  },
  {
   "cell_type": "code",
   "execution_count": 8,
   "metadata": {
    "collapsed": false
   },
   "outputs": [
    {
     "name": "stdout",
     "output_type": "stream",
     "text": [
      "+----+----+\n",
      "|name|  id|\n",
      "+----+----+\n",
      "| 148| 148|\n",
      "| 463| 463|\n",
      "| 471| 471|\n",
      "| 496| 496|\n",
      "|1088|1088|\n",
      "|1238|1238|\n",
      "|1342|1342|\n",
      "|1580|1580|\n",
      "|1591|1591|\n",
      "|1645|1645|\n",
      "|1829|1829|\n",
      "|1959|1959|\n",
      "|2122|2122|\n",
      "|2142|2142|\n",
      "|2366|2366|\n",
      "|2659|2659|\n",
      "|2866|2866|\n",
      "|3175|3175|\n",
      "|3749|3749|\n",
      "|3794|3794|\n",
      "+----+----+\n",
      "only showing top 20 rows\n",
      "\n"
     ]
    }
   ],
   "source": [
    "nodes = n.withColumn(\"id\",n.name)\n",
    "nodes.show()"
   ]
  },
  {
   "cell_type": "code",
   "execution_count": 9,
   "metadata": {
    "collapsed": false
   },
   "outputs": [
    {
     "data": {
      "text/plain": [
       "GraphFrame(v:[id: int, name: int], e:[src: int, dst: int])"
      ]
     },
     "execution_count": 9,
     "metadata": {},
     "output_type": "execute_result"
    }
   ],
   "source": [
    "from graphframes import graphframe as GF\n",
    "g1 = GF.GraphFrame(nodes, edges)\n",
    "g1"
   ]
  },
  {
   "cell_type": "code",
   "execution_count": 10,
   "metadata": {
    "collapsed": false
   },
   "outputs": [],
   "source": [
    "k = g1.degrees.sort(\"degree\",ascending=False)"
   ]
  },
  {
   "cell_type": "code",
   "execution_count": 11,
   "metadata": {
    "collapsed": false
   },
   "outputs": [
    {
     "name": "stdout",
     "output_type": "stream",
     "text": [
      "+----+------+\n",
      "|  id|degree|\n",
      "+----+------+\n",
      "| 107|  1045|\n",
      "|1684|   792|\n",
      "|1912|   755|\n",
      "|3437|   547|\n",
      "|   0|   347|\n",
      "|2543|   294|\n",
      "|2347|   291|\n",
      "|1888|   254|\n",
      "|1800|   245|\n",
      "|1663|   235|\n",
      "|2266|   234|\n",
      "|1352|   234|\n",
      "| 483|   231|\n",
      "| 348|   229|\n",
      "|1730|   226|\n",
      "|1985|   224|\n",
      "|1941|   223|\n",
      "|2233|   222|\n",
      "|2142|   221|\n",
      "|1431|   220|\n",
      "+----+------+\n",
      "only showing top 20 rows\n",
      "\n"
     ]
    }
   ],
   "source": [
    "k.show()"
   ]
  },
  {
   "cell_type": "markdown",
   "metadata": {},
   "source": [
    "### Page Rank Algorithm"
   ]
  },
  {
   "cell_type": "code",
   "execution_count": 36,
   "metadata": {
    "collapsed": false
   },
   "outputs": [],
   "source": [
    "pr2 = g1.pageRank(resetProbability=0.15,maxIter=10)"
   ]
  },
  {
   "cell_type": "code",
   "execution_count": 37,
   "metadata": {
    "collapsed": false
   },
   "outputs": [
    {
     "name": "stdout",
     "output_type": "stream",
     "text": [
      "+----+----+-------------------+\n",
      "|name|  id|           pagerank|\n",
      "+----+----+-------------------+\n",
      "|1200|1200|0.15013201220174618|\n",
      "|2000|2000| 0.1816136976890717|\n",
      "|2200|2200|0.23690767656045705|\n",
      "| 800| 800| 0.4069143579529082|\n",
      "|2400|2400|0.25026176885102175|\n",
      "| 600| 600|0.20920088439427809|\n",
      "|1800|1800|   2.43119982404883|\n",
      "|3400|3400| 1.4315205784750025|\n",
      "|3200|3200| 0.5027906169409039|\n",
      "| 200| 200|0.47881417119754555|\n",
      "|   0|   0|               0.15|\n",
      "|3600|3600|0.20544164213625452|\n",
      "|3800|3800| 0.6600288124233537|\n",
      "|1600|1600| 0.4063281568423561|\n",
      "|2800|2800| 0.1881983676496505|\n",
      "|1400|1400| 0.2953916426547574|\n",
      "|3000|3000| 0.4163955463154627|\n",
      "| 400| 400| 0.1854213276621568|\n",
      "|1000|1000|0.18875404102250978|\n",
      "|2600|2600| 1.5574296901350313|\n",
      "+----+----+-------------------+\n",
      "only showing top 20 rows\n",
      "\n"
     ]
    }
   ],
   "source": [
    "pr2.vertices.show()"
   ]
  },
  {
   "cell_type": "code",
   "execution_count": 39,
   "metadata": {
    "collapsed": false
   },
   "outputs": [
    {
     "name": "stdout",
     "output_type": "stream",
     "text": [
      "+----+----+------------------+\n",
      "|name|  id|          pagerank|\n",
      "+----+----+------------------+\n",
      "|3434|3434|18.184854947011132|\n",
      "|1911|1911|18.123485079267827|\n",
      "|2655|2655|17.525235558669866|\n",
      "|1902|1902|17.355639012354075|\n",
      "|1888|1888|13.343166596152308|\n",
      "|2649|2649|12.160288086426291|\n",
      "|1907|1907| 9.949812568135128|\n",
      "|3971|3971| 9.826991926726324|\n",
      "|2654|2654|  9.54217132093854|\n",
      "|1910|1910| 8.091846524893004|\n",
      "|1894|1894| 7.693883388950881|\n",
      "|3430|3430| 7.231084079074089|\n",
      "|1898|1898| 7.211028117522381|\n",
      "|1882|1882| 7.077107010603322|\n",
      "|3426|3426| 7.034880334304319|\n",
      "|2660|2660| 6.983833314845806|\n",
      "|2642|2642| 5.976237849088194|\n",
      "| 332| 332| 5.724127492703557|\n",
      "|3422|3422| 5.721584713429875|\n",
      "|1891|1891|  5.66118441791449|\n",
      "+----+----+------------------+\n",
      "only showing top 20 rows\n",
      "\n"
     ]
    }
   ],
   "source": [
    "pr3 = pr2.vertices.sort(\"pagerank\",ascending=False)\n",
    "pr3.show()"
   ]
  },
  {
   "cell_type": "markdown",
   "metadata": {},
   "source": [
    "### Triangle Count"
   ]
  },
  {
   "cell_type": "code",
   "execution_count": 42,
   "metadata": {
    "collapsed": false
   },
   "outputs": [],
   "source": [
    "tcr = g1.triangleCount()"
   ]
  },
  {
   "cell_type": "code",
   "execution_count": 46,
   "metadata": {
    "collapsed": false
   },
   "outputs": [
    {
     "name": "stdout",
     "output_type": "stream",
     "text": [
      "+-----+----+----+\n",
      "|count|name|  id|\n",
      "+-----+----+----+\n",
      "|   80| 148| 148|\n",
      "|  361| 463| 463|\n",
      "|  312| 471| 471|\n",
      "|  399| 496| 496|\n",
      "|   38| 833| 833|\n",
      "|   40|1088|1088|\n",
      "| 5335|1238|1238|\n",
      "|   28|1342|1342|\n",
      "| 2048|1580|1580|\n",
      "| 1698|1591|1591|\n",
      "|  783|1645|1645|\n",
      "|   73|1829|1829|\n",
      "| 3883|1959|1959|\n",
      "| 8857|2122|2122|\n",
      "|15165|2142|2142|\n",
      "|  334|2366|2366|\n",
      "|  663|2659|2659|\n",
      "| 1763|2866|2866|\n",
      "|   14|3175|3175|\n",
      "|   14|3749|3749|\n",
      "+-----+----+----+\n",
      "only showing top 20 rows\n",
      "\n"
     ]
    }
   ],
   "source": [
    "tcr.show()\n"
   ]
  },
  {
   "cell_type": "markdown",
   "metadata": {},
   "source": [
    "### Connected Components"
   ]
  },
  {
   "cell_type": "code",
   "execution_count": 12,
   "metadata": {
    "collapsed": true
   },
   "outputs": [],
   "source": [
    "sc.setCheckpointDir(\"graph/checkpointdir/\")"
   ]
  },
  {
   "cell_type": "code",
   "execution_count": 49,
   "metadata": {
    "collapsed": false
   },
   "outputs": [],
   "source": [
    "CCs = g1.connectedComponents()"
   ]
  },
  {
   "cell_type": "code",
   "execution_count": 61,
   "metadata": {
    "collapsed": false
   },
   "outputs": [
    {
     "name": "stdout",
     "output_type": "stream",
     "text": [
      "+----+----+---------+\n",
      "|name|  id|component|\n",
      "+----+----+---------+\n",
      "| 148| 148|        0|\n",
      "| 463| 463|        0|\n",
      "| 471| 471|        0|\n",
      "| 496| 496|        0|\n",
      "|1088|1088|        0|\n",
      "|1238|1238|        0|\n",
      "|1342|1342|        0|\n",
      "|1580|1580|        0|\n",
      "|1591|1591|        0|\n",
      "|1645|1645|        0|\n",
      "|1829|1829|        0|\n",
      "|1959|1959|        0|\n",
      "|2122|2122|        0|\n",
      "|2142|2142|        0|\n",
      "|2366|2366|        0|\n",
      "|2659|2659|        0|\n",
      "|2866|2866|        0|\n",
      "|3175|3175|        0|\n",
      "|3749|3749|        0|\n",
      "|3794|3794|        0|\n",
      "+----+----+---------+\n",
      "only showing top 20 rows\n",
      "\n"
     ]
    }
   ],
   "source": [
    "CCs.show()"
   ]
  },
  {
   "cell_type": "code",
   "execution_count": 52,
   "metadata": {
    "collapsed": false
   },
   "outputs": [
    {
     "data": {
      "text/plain": [
       "1"
      ]
     },
     "execution_count": 52,
     "metadata": {},
     "output_type": "execute_result"
    }
   ],
   "source": [
    "CCs.select(\"component\").distinct()"
   ]
  }
 ],
 "metadata": {
  "kernelspec": {
   "display_name": "Python 2",
   "language": "python",
   "name": "python2"
  },
  "language_info": {
   "codemirror_mode": {
    "name": "ipython",
    "version": 2
   },
   "file_extension": ".py",
   "mimetype": "text/x-python",
   "name": "python",
   "nbconvert_exporter": "python",
   "pygments_lexer": "ipython2",
   "version": "2.7.12"
  }
 },
 "nbformat": 4,
 "nbformat_minor": 1
}
